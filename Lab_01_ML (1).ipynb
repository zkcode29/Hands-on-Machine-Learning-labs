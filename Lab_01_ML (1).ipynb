{
  "nbformat": 4,
  "nbformat_minor": 0,
  "metadata": {
    "colab": {
      "provenance": []
    },
    "kernelspec": {
      "name": "python3",
      "display_name": "Python 3"
    },
    "language_info": {
      "name": "python"
    }
  },
  "cells": [
    {
      "cell_type": "markdown",
      "source": [
        "##**Name**         \n",
        "**Izaz Khan**\n",
        "##**Reg no**\n",
        "**B23F0001AI029**"
      ],
      "metadata": {
        "id": "4ybiqJxyOoHq"
      }
    },
    {
      "cell_type": "markdown",
      "source": [
        "##**Scenario 1: Student Marks Analysis (NumPy)**"
      ],
      "metadata": {
        "id": "rEvGI71xvMiz"
      }
    },
    {
      "cell_type": "markdown",
      "source": [
        "##**Descreption**\n",
        "In the first task i learn about numpy , how to instal it, then how we can do computation on array.\n",
        "\n",
        "1->I find the mean\n",
        "\n",
        "2->I found out numbers above average\n",
        "\n",
        "3->I reshape it"
      ],
      "metadata": {
        "id": "G6Tgr3nfPM76"
      }
    },
    {
      "cell_type": "markdown",
      "source": [
        "**Importing the Librarey**"
      ],
      "metadata": {
        "id": "g0NdGLGTFMRU"
      }
    },
    {
      "cell_type": "code",
      "source": [
        "import numpy as np"
      ],
      "metadata": {
        "id": "bMV3a31HQfCz"
      },
      "execution_count": null,
      "outputs": []
    },
    {
      "cell_type": "markdown",
      "source": [
        "**Finding the mean using np.mean() function**"
      ],
      "metadata": {
        "id": "NT7gBrM8FU3m"
      }
    },
    {
      "cell_type": "code",
      "execution_count": null,
      "metadata": {
        "colab": {
          "base_uri": "https://localhost:8080/"
        },
        "id": "S7OVIke2Oi6G",
        "outputId": "7cc29e68-3b25-45cc-d713-e5e19bde4dbe"
      },
      "outputs": [
        {
          "output_type": "stream",
          "name": "stdout",
          "text": [
            "[45 67 89 32 76 50 89 44 61 39]\n",
            "59.2\n",
            "55.5\n"
          ]
        }
      ],
      "source": [
        "\n",
        "marks=np.array([45,67,89,32,76,50,89,44,61,39])\n",
        "print(marks)\n",
        "print(np.mean(marks))\n",
        "print(np.median(marks))\n"
      ]
    },
    {
      "cell_type": "markdown",
      "source": [
        "**Printing those numbers which are above mean**"
      ],
      "metadata": {
        "id": "9ieb7UjaFe6E"
      }
    },
    {
      "cell_type": "code",
      "source": [
        "print(np.mean(marks))\n",
        "above_average=marks[marks>np.mean(marks)]\n",
        "print(above_average)"
      ],
      "metadata": {
        "colab": {
          "base_uri": "https://localhost:8080/"
        },
        "id": "-nlCafFGRz5c",
        "outputId": "ad8abf9d-cbca-4f4c-a898-fa745842aec7"
      },
      "execution_count": null,
      "outputs": [
        {
          "output_type": "stream",
          "name": "stdout",
          "text": [
            "59.2\n",
            "[67 89 76 89 61]\n"
          ]
        }
      ]
    },
    {
      "cell_type": "markdown",
      "source": [
        "**Reshaping our array from 1 row to 2 rows**"
      ],
      "metadata": {
        "id": "BR3wWC1bFmhr"
      }
    },
    {
      "cell_type": "code",
      "source": [
        "print(\"original one dimensional array:\",marks)\n",
        "reshape=marks.reshape(2,5)\n",
        "print(\"the two dimensional array:\", reshape)"
      ],
      "metadata": {
        "colab": {
          "base_uri": "https://localhost:8080/"
        },
        "id": "D-0bgqKZTVRM",
        "outputId": "315bdd97-401a-4170-8e08-d1319c0e67f8"
      },
      "execution_count": null,
      "outputs": [
        {
          "output_type": "stream",
          "name": "stdout",
          "text": [
            "original one dimensional array: [45 67 89 32 76 50 89 44 61 39]\n",
            "the two dimensional array: [[45 67 89 32 76]\n",
            " [50 89 44 61 39]]\n"
          ]
        }
      ]
    },
    {
      "cell_type": "markdown",
      "source": [
        "##**Scenario 2: Fruit Shop Inventory (Pandas Series)**"
      ],
      "metadata": {
        "id": "fgdjUCmAZdQw"
      }
    },
    {
      "cell_type": "markdown",
      "source": [
        "#**Description**\n",
        "The second task is about Pandas library and how we can do data manipulation using pandas\n",
        "\n",
        "- First i import pandas to my working notebook\n",
        "- second i print all the data\n",
        "- third i print the specific which is out of stock\n",
        "- Fourth i update the stock by adding new delivery of some stock\n",
        "- last i print the total stock available"
      ],
      "metadata": {
        "id": "bE8gEUUZvbLR"
      }
    },
    {
      "cell_type": "markdown",
      "source": [
        "**Importing pandas library and print out the series**"
      ],
      "metadata": {
        "id": "WV7CLvkSFxMO"
      }
    },
    {
      "cell_type": "code",
      "source": [
        "import pandas as pd"
      ],
      "metadata": {
        "id": "V6axTAXKTxMR"
      },
      "execution_count": 3,
      "outputs": []
    },
    {
      "cell_type": "code",
      "source": [
        "stock=pd.Series([20,15,0,8],index=['apple','banana','cheeries','Date'])\n",
        "print(stock)"
      ],
      "metadata": {
        "colab": {
          "base_uri": "https://localhost:8080/"
        },
        "id": "HFNjcG4aaOjd",
        "outputId": "bce50920-1c79-4299-93df-49373cfbd3d0"
      },
      "execution_count": null,
      "outputs": [
        {
          "output_type": "stream",
          "name": "stdout",
          "text": [
            "apple       20\n",
            "banana      15\n",
            "cheeries     0\n",
            "Date         8\n",
            "dtype: int64\n"
          ]
        }
      ]
    },
    {
      "cell_type": "markdown",
      "source": [
        "**Print out those stocks which are not available**"
      ],
      "metadata": {
        "id": "A_3AGV_gF8q2"
      }
    },
    {
      "cell_type": "code",
      "source": [
        "out_of_stock=stock[stock==0]\n",
        "print(out_of_stock)"
      ],
      "metadata": {
        "colab": {
          "base_uri": "https://localhost:8080/"
        },
        "id": "D82TFJ-wazsf",
        "outputId": "b81423aa-995c-4610-b830-cc6db3126ed6"
      },
      "execution_count": null,
      "outputs": [
        {
          "output_type": "stream",
          "name": "stdout",
          "text": [
            "cheeries    0\n",
            "dtype: int64\n"
          ]
        }
      ]
    },
    {
      "cell_type": "markdown",
      "source": [
        "**Update the inventory by adding new delivery**"
      ],
      "metadata": {
        "id": "6Hcl59Y9GNyC"
      }
    },
    {
      "cell_type": "code",
      "source": [
        "update=pd.Series([10,5,20], index=['apple','banana','Date'])\n",
        "print(update)"
      ],
      "metadata": {
        "colab": {
          "base_uri": "https://localhost:8080/"
        },
        "id": "FnSAey4Zb9EF",
        "outputId": "9bdee03b-c860-4ae6-8294-ba8e7f5b0c4b"
      },
      "execution_count": null,
      "outputs": [
        {
          "output_type": "stream",
          "name": "stdout",
          "text": [
            "apple     10\n",
            "banana     5\n",
            "Date      20\n",
            "dtype: int64\n"
          ]
        }
      ]
    },
    {
      "cell_type": "markdown",
      "source": [
        "**Print out the updated Inventory**"
      ],
      "metadata": {
        "id": "mMZjYff-GUWX"
      }
    },
    {
      "cell_type": "code",
      "source": [
        "stock.add(update)"
      ],
      "metadata": {
        "colab": {
          "base_uri": "https://localhost:8080/",
          "height": 209
        },
        "id": "docu7ovdddvP",
        "outputId": "3496db93-dd50-4d30-effa-209365363539"
      },
      "execution_count": null,
      "outputs": [
        {
          "output_type": "execute_result",
          "data": {
            "text/plain": [
              "Date        28.0\n",
              "apple       30.0\n",
              "banana      20.0\n",
              "cheeries     NaN\n",
              "dtype: float64"
            ],
            "text/html": [
              "<div>\n",
              "<style scoped>\n",
              "    .dataframe tbody tr th:only-of-type {\n",
              "        vertical-align: middle;\n",
              "    }\n",
              "\n",
              "    .dataframe tbody tr th {\n",
              "        vertical-align: top;\n",
              "    }\n",
              "\n",
              "    .dataframe thead th {\n",
              "        text-align: right;\n",
              "    }\n",
              "</style>\n",
              "<table border=\"1\" class=\"dataframe\">\n",
              "  <thead>\n",
              "    <tr style=\"text-align: right;\">\n",
              "      <th></th>\n",
              "      <th>0</th>\n",
              "    </tr>\n",
              "  </thead>\n",
              "  <tbody>\n",
              "    <tr>\n",
              "      <th>Date</th>\n",
              "      <td>28.0</td>\n",
              "    </tr>\n",
              "    <tr>\n",
              "      <th>apple</th>\n",
              "      <td>30.0</td>\n",
              "    </tr>\n",
              "    <tr>\n",
              "      <th>banana</th>\n",
              "      <td>20.0</td>\n",
              "    </tr>\n",
              "    <tr>\n",
              "      <th>cheeries</th>\n",
              "      <td>NaN</td>\n",
              "    </tr>\n",
              "  </tbody>\n",
              "</table>\n",
              "</div><br><label><b>dtype:</b> float64</label>"
            ]
          },
          "metadata": {},
          "execution_count": 30
        }
      ]
    },
    {
      "cell_type": "code",
      "source": [
        "stock.add(update,fill_value=0)"
      ],
      "metadata": {
        "colab": {
          "base_uri": "https://localhost:8080/",
          "height": 209
        },
        "id": "LLZ84KUJfMnl",
        "outputId": "75cac110-5c09-424d-c800-49337cc6021d"
      },
      "execution_count": null,
      "outputs": [
        {
          "output_type": "execute_result",
          "data": {
            "text/plain": [
              "Date        28.0\n",
              "apple       30.0\n",
              "banana      20.0\n",
              "cheeries     0.0\n",
              "dtype: float64"
            ],
            "text/html": [
              "<div>\n",
              "<style scoped>\n",
              "    .dataframe tbody tr th:only-of-type {\n",
              "        vertical-align: middle;\n",
              "    }\n",
              "\n",
              "    .dataframe tbody tr th {\n",
              "        vertical-align: top;\n",
              "    }\n",
              "\n",
              "    .dataframe thead th {\n",
              "        text-align: right;\n",
              "    }\n",
              "</style>\n",
              "<table border=\"1\" class=\"dataframe\">\n",
              "  <thead>\n",
              "    <tr style=\"text-align: right;\">\n",
              "      <th></th>\n",
              "      <th>0</th>\n",
              "    </tr>\n",
              "  </thead>\n",
              "  <tbody>\n",
              "    <tr>\n",
              "      <th>Date</th>\n",
              "      <td>28.0</td>\n",
              "    </tr>\n",
              "    <tr>\n",
              "      <th>apple</th>\n",
              "      <td>30.0</td>\n",
              "    </tr>\n",
              "    <tr>\n",
              "      <th>banana</th>\n",
              "      <td>20.0</td>\n",
              "    </tr>\n",
              "    <tr>\n",
              "      <th>cheeries</th>\n",
              "      <td>0.0</td>\n",
              "    </tr>\n",
              "  </tbody>\n",
              "</table>\n",
              "</div><br><label><b>dtype:</b> float64</label>"
            ]
          },
          "metadata": {},
          "execution_count": 38
        }
      ]
    },
    {
      "cell_type": "markdown",
      "source": [
        "#**Task 3: Mini Student Records (Pandas DataFrame)**"
      ],
      "metadata": {
        "id": "H4eH3foAxYXT"
      }
    },
    {
      "cell_type": "markdown",
      "source": [
        "#**Description**\n",
        "In second task i worked on series now in third its about pandas framework\n",
        "- First i print out all the data\n",
        "- Second i print the student with hieghest score\n",
        "- Third i find the Avreage\n",
        "- Last i compare the student with average and print those who lies above average"
      ],
      "metadata": {
        "id": "rSnTM6Tzxbjz"
      }
    },
    {
      "cell_type": "markdown",
      "source": [
        "**Panda Data Frame and print it out**"
      ],
      "metadata": {
        "id": "_J8SdmYcDmPP"
      }
    },
    {
      "cell_type": "code",
      "source": [
        "data={ 'Name':['Izaz','Shuhood','Ibad', 'Salif', 'Hammad'],\n",
        "       'Age':[20,25,19,21,22],\n",
        "       'Score':[68,70,78,85,88]\n",
        "       }\n",
        "df=pd.DataFrame(data)\n",
        "print(df)\n",
        "\n"
      ],
      "metadata": {
        "id": "vYSE7gjtg1Tv",
        "colab": {
          "base_uri": "https://localhost:8080/"
        },
        "outputId": "6bd1b531-d91e-4270-8c28-24b557476a72"
      },
      "execution_count": 4,
      "outputs": [
        {
          "output_type": "stream",
          "name": "stdout",
          "text": [
            "      Name  Age  Score\n",
            "0     Izaz   20     68\n",
            "1  Shuhood   25     70\n",
            "2     Ibad   19     78\n",
            "3    Salif   21     85\n",
            "4   Hammad   22     88\n"
          ]
        }
      ]
    },
    {
      "cell_type": "markdown",
      "source": [
        "**Finding the individual with hieghest score**"
      ],
      "metadata": {
        "id": "8fDQY-pRDuwk"
      }
    },
    {
      "cell_type": "code",
      "source": [
        "highest = df[df['Score'] == df['Score'].max()]\n",
        "print(highest)"
      ],
      "metadata": {
        "colab": {
          "base_uri": "https://localhost:8080/"
        },
        "id": "5IgYMHHZy7ct",
        "outputId": "c5e3b8a6-cf33-41f1-a2f3-ba7013de188c"
      },
      "execution_count": 8,
      "outputs": [
        {
          "output_type": "stream",
          "name": "stdout",
          "text": [
            "     Name  Age  Score\n",
            "4  Hammad   22     88\n"
          ]
        }
      ]
    },
    {
      "cell_type": "markdown",
      "source": [
        "**Finding the mean**"
      ],
      "metadata": {
        "id": "JIYi9Dp9D4wi"
      }
    },
    {
      "cell_type": "code",
      "source": [
        "avrage=df['Score'].mean()\n",
        "print(avrage)"
      ],
      "metadata": {
        "colab": {
          "base_uri": "https://localhost:8080/"
        },
        "id": "ZLePDQiU5pua",
        "outputId": "d0c00e1e-64c4-4e79-809d-b774b9665e04"
      },
      "execution_count": 9,
      "outputs": [
        {
          "output_type": "stream",
          "name": "stdout",
          "text": [
            "77.8\n"
          ]
        }
      ]
    },
    {
      "cell_type": "markdown",
      "source": [
        "**Printing those who lies above average**"
      ],
      "metadata": {
        "id": "jvMkAbeLD_S0"
      }
    },
    {
      "cell_type": "code",
      "source": [
        "above_average=df['Score'] > avrage\n",
        "print(above_average)"
      ],
      "metadata": {
        "colab": {
          "base_uri": "https://localhost:8080/"
        },
        "id": "5VA9ndGvCZcY",
        "outputId": "73d92aa0-fffa-47e0-8c83-588f3aa36f31"
      },
      "execution_count": 10,
      "outputs": [
        {
          "output_type": "stream",
          "name": "stdout",
          "text": [
            "0    False\n",
            "1    False\n",
            "2     True\n",
            "3     True\n",
            "4     True\n",
            "Name: Score, dtype: bool\n"
          ]
        }
      ]
    },
    {
      "cell_type": "markdown",
      "source": [
        "#**Conclusion**\n",
        "This our first Lab of **ML** , we studied about the 2 fundamental libraries **NumPy & Panda**. One is used for Methemathical computation second one is for data Manifulation.Last we have 3 task about these two libraries which enhanced our programming skills and fimiliar us with these libraries how to used it ."
      ],
      "metadata": {
        "id": "wf16GJT6ENHf"
      }
    }
  ]
}